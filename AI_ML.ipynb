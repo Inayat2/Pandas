{
  "cells": [
    {
      "cell_type": "markdown",
      "metadata": {
        "id": "view-in-github",
        "colab_type": "text"
      },
      "source": [
        "<a href=\"https://colab.research.google.com/github/Inayat2/Pandas/blob/main/AI_ML.ipynb\" target=\"_parent\"><img src=\"https://colab.research.google.com/assets/colab-badge.svg\" alt=\"Open In Colab\"/></a>"
      ]
    },
    {
      "cell_type": "code",
      "execution_count": null,
      "metadata": {
        "colab": {
          "base_uri": "https://localhost:8080/"
        },
        "id": "_He8Siup2wRM",
        "outputId": "300b69dd-b178-44e3-c862-6b7d5e4b533e"
      },
      "outputs": [
        {
          "name": "stdout",
          "output_type": "stream",
          "text": [
            "hello computer\n"
          ]
        }
      ],
      "source": [
        "print(\"hello computer\")"
      ]
    },
    {
      "cell_type": "code",
      "execution_count": null,
      "metadata": {
        "colab": {
          "base_uri": "https://localhost:8080/",
          "height": 35
        },
        "id": "oYT2IVkBCPjf",
        "outputId": "ddfc8098-d14a-4203-d164-f310903923e2"
      },
      "outputs": [
        {
          "data": {
            "application/vnd.google.colaboratory.intrinsic+json": {
              "type": "string"
            },
            "text/plain": [
              "'blue'"
            ]
          },
          "execution_count": 12,
          "metadata": {},
          "output_type": "execute_result"
        }
      ],
      "source": [
        "color1, color2, color3= \"red\", \"green\", \"blue\"\n",
        "color3"
      ]
    },
    {
      "cell_type": "code",
      "execution_count": null,
      "metadata": {
        "colab": {
          "base_uri": "https://localhost:8080/"
        },
        "id": "cAXmbv8wkxn8",
        "outputId": "b9dac7ca-c9fe-4882-c3fb-4e69bd3500a9"
      },
      "outputs": [
        {
          "name": "stdout",
          "output_type": "stream",
          "text": [
            "False\n",
            "True\n"
          ]
        }
      ],
      "source": [
        "x = [1, 2, 3]\n",
        "y = [1, 2, 3]\n",
        "\n",
        "print(x is y)     # False\n",
        "print(x is not y)  # True"
      ]
    },
    {
      "cell_type": "code",
      "execution_count": null,
      "metadata": {
        "colab": {
          "base_uri": "https://localhost:8080/"
        },
        "id": "Kavjt5NDheXY",
        "outputId": "7ed5c015-46e2-4915-ba9a-9fef341868b0"
      },
      "outputs": [
        {
          "name": "stdout",
          "output_type": "stream",
          "text": [
            "False\n",
            "True\n"
          ]
        }
      ],
      "source": [
        "x= 9\n",
        "y= 8\n",
        "print(x<=y)\n",
        "print(x>y)\n"
      ]
    },
    {
      "cell_type": "code",
      "execution_count": null,
      "metadata": {
        "id": "0VxqzZ2yDZPu"
      },
      "outputs": [],
      "source": [
        "counter 10\n"
      ]
    },
    {
      "cell_type": "markdown",
      "metadata": {
        "id": "iEsONUMA3DmB"
      },
      "source": [
        "kshivhaeilvhileh"
      ]
    },
    {
      "cell_type": "code",
      "execution_count": null,
      "metadata": {
        "colab": {
          "base_uri": "https://localhost:8080/"
        },
        "id": "QlQ4gVhG47Su",
        "outputId": "f90ef117-13ab-4c60-a762-07ffd09dad81"
      },
      "outputs": [
        {
          "name": "stdout",
          "output_type": "stream",
          "text": [
            "Sally\n"
          ]
        }
      ],
      "source": [
        "x = 4       # x is of type int\n",
        "x = \"Sally\" # x is now of type str\n",
        "print(x)\n"
      ]
    },
    {
      "cell_type": "code",
      "execution_count": null,
      "metadata": {
        "colab": {
          "base_uri": "https://localhost:8080/"
        },
        "id": "pfHbq9dH3Igo",
        "outputId": "f69e9e52-f160-423a-f209-79e415d1f867"
      },
      "outputs": [
        {
          "name": "stdout",
          "output_type": "stream",
          "text": [
            "Five is greater than two!\n"
          ]
        }
      ],
      "source": [
        "if 5 > 2:\n",
        "  print(\"Five is greater than two!\")\n"
      ]
    },
    {
      "cell_type": "code",
      "execution_count": null,
      "metadata": {
        "colab": {
          "base_uri": "https://localhost:8080/"
        },
        "id": "WLW69kCw5Lzo",
        "outputId": "ff02e7a5-764d-4f2e-8da6-513d623667f6"
      },
      "outputs": [
        {
          "name": "stdout",
          "output_type": "stream",
          "text": [
            "Select operation.\n",
            "1. Add\n",
            "2. Subtract\n",
            "3. Multiply\n",
            "4. Divide\n",
            "Enter choice (1/2/3/4): 1\n",
            "Enter first number: 1\n",
            "Enter second number: 2\n",
            "1.0   1   2.0  =  3.0\n"
          ]
        }
      ],
      "source": [
        "# prompt: create python calculator\n",
        "\n",
        "def add(x, y):\n",
        "  return x + y\n",
        "\n",
        "def subtract(x, y):\n",
        "  return x - y\n",
        "\n",
        "def multiply(x, y):\n",
        "  return x * y\n",
        "\n",
        "def divide(x, y):\n",
        "  return x / y\n",
        "\n",
        "print(\"Select operation.\")\n",
        "print(\"1. Add\")\n",
        "print(\"2. Subtract\")\n",
        "print(\"3. Multiply\")\n",
        "print(\"4. Divide\")\n",
        "\n",
        "while True:\n",
        "  # Take input from the user\n",
        "  choice = input(\"Enter choice (1/2/3/4): \")\n",
        "\n",
        "  if choice in ('1', '2', '3', '4'):\n",
        "    num1 = float(input(\"Enter first number: \"))\n",
        "    num2 = float(input(\"Enter second number: \"))\n",
        "\n",
        "    if choice == '1':\n",
        "      result = add(num1, num2)\n",
        "    elif choice == '2':\n",
        "      result = subtract(num1, num2)\n",
        "    elif choice == '3':\n",
        "      result = multiply(num1, num2)\n",
        "    elif choice == '4':\n",
        "      result = divide(num1, num2)\n",
        "\n",
        "    print(num1, \" \", choice, \" \", num2, \" = \", result)\n",
        "    break\n",
        "  else:\n",
        "    print(\"Invalid input\")\n"
      ]
    },
    {
      "cell_type": "code",
      "execution_count": null,
      "metadata": {
        "colab": {
          "base_uri": "https://localhost:8080/"
        },
        "id": "0CyHAhG83Fno",
        "outputId": "49ab48c8-601a-4231-af20-9f4f2bc93fdb"
      },
      "outputs": [
        {
          "name": "stdout",
          "output_type": "stream",
          "text": [
            "11\n"
          ]
        }
      ],
      "source": [
        "x = 5\n",
        "y = 6\n",
        "print(x+y)\n"
      ]
    },
    {
      "cell_type": "code",
      "execution_count": null,
      "metadata": {
        "id": "yEh0fNwmnGD9"
      },
      "outputs": [],
      "source": [
        "the_3_drivers = ('qadir dar', 'nab kak', 'gull kak')"
      ]
    },
    {
      "cell_type": "code",
      "execution_count": null,
      "metadata": {
        "id": "ycfdNKL-nYAa"
      },
      "outputs": [],
      "source": [
        "a_candidate = \"ab'aziz\""
      ]
    },
    {
      "cell_type": "code",
      "execution_count": null,
      "metadata": {
        "colab": {
          "base_uri": "https://localhost:8080/",
          "height": 110
        },
        "id": "5qQlMd25n58-",
        "outputId": "b76d6554-b52e-4c5b-bc88-06b1ba85618a"
      },
      "outputs": [
        {
          "ename": "IndentationError",
          "evalue": "expected an indented block after 'if' statement on line 1 (<ipython-input-5-06e1743da3b5>, line 2)",
          "output_type": "error",
          "traceback": [
            "\u001b[0;36m  File \u001b[0;32m\"<ipython-input-5-06e1743da3b5>\"\u001b[0;36m, line \u001b[0;32m2\u001b[0m\n\u001b[0;31m    print(\"{} is a drivers\".format(a_candidate))\u001b[0m\n\u001b[0m    ^\u001b[0m\n\u001b[0;31mIndentationError\u001b[0m\u001b[0;31m:\u001b[0m expected an indented block after 'if' statement on line 1\n"
          ]
        }
      ],
      "source": [
        "if a_candidate in the_3_drivers:\n",
        "print(\"{} is a drivers\".format(a_candidate))\n",
        "else:\n",
        "  print(\"{} is not a drivers\".format(a_candidate))"
      ]
    },
    {
      "cell_type": "code",
      "execution_count": null,
      "metadata": {
        "colab": {
          "base_uri": "https://localhost:8080/"
        },
        "id": "UloINla2puLq",
        "outputId": "475b82dc-fb4a-485f-a002-19f006c47173"
      },
      "outputs": [
        {
          "name": "stdout",
          "output_type": "stream",
          "text": [
            "ab'aziz is not a drivers\n"
          ]
        }
      ],
      "source": [
        "if a_candidate in the_3_drivers:\n",
        "  print(\"{} is a drivers\".format(a_candidate))\n",
        "else:\n",
        "  print(\"{} is not a drivers\".format(a_candidate))"
      ]
    },
    {
      "cell_type": "code",
      "execution_count": null,
      "metadata": {
        "id": "55KP_50KogoT"
      },
      "outputs": [],
      "source": [
        "today = 'december'"
      ]
    },
    {
      "cell_type": "code",
      "execution_count": null,
      "metadata": {
        "id": "_c9Vyk78qrPP"
      },
      "outputs": [],
      "source": [
        "if today == 'november':\n",
        "  print(\"today is the day of winter.\")"
      ]
    },
    {
      "cell_type": "code",
      "execution_count": null,
      "metadata": {
        "colab": {
          "base_uri": "https://localhost:8080/",
          "height": 110
        },
        "id": "tIhQJ4LkrnS6",
        "outputId": "7dcd7b8e-2f49-45b9-8eef-57b459f2bb7e"
      },
      "outputs": [
        {
          "ename": "SyntaxError",
          "evalue": "invalid syntax (<ipython-input-3-9960ff133577>, line 1)",
          "output_type": "error",
          "traceback": [
            "\u001b[0;36m  File \u001b[0;32m\"<ipython-input-3-9960ff133577>\"\u001b[0;36m, line \u001b[0;32m1\u001b[0m\n\u001b[0;31m    elif today == 'Sunday':\u001b[0m\n\u001b[0m    ^\u001b[0m\n\u001b[0;31mSyntaxError\u001b[0m\u001b[0;31m:\u001b[0m invalid syntax\n"
          ]
        }
      ],
      "source": [
        "elif today == 'January':\n",
        "    print(\"Today is the day of the moon.\")\n",
        "elif today == 'February':\n",
        "    print(\"Today is the day of Tyr, the god of war.\")\n",
        "elif today == 'march':\n",
        "    print(\"Today is the day of Odin, the supreme diety.\")\n",
        "elif today == 'april':\n",
        "    print(\"Today is the day of Thor, the god of thunder.\")\n",
        "elif today == 'may':\n",
        "    print(\"Today is the day of Frigga, the goddess of beauty.\")\n",
        "elif today == 'june':\n",
        "    print(\"Today is the day of Saturn, the god of fun and feasting.\")"
      ]
    },
    {
      "cell_type": "code",
      "execution_count": null,
      "metadata": {
        "id": "WazD5dpbsM9g"
      },
      "outputs": [],
      "source": [
        "today = 'September'"
      ]
    },
    {
      "cell_type": "code",
      "execution_count": null,
      "metadata": {
        "colab": {
          "base_uri": "https://localhost:8080/"
        },
        "id": "M3qg1cUDIitL",
        "outputId": "08f4dd5e-d9b7-4d17-a3ef-a2d6b59b836c"
      },
      "outputs": [
        {
          "name": "stdout",
          "output_type": "stream",
          "text": [
            "Today is the day of Saturn, the god of fun and feasting.\n"
          ]
        }
      ],
      "source": [
        "if today == 'January':\n",
        "    print(\"Today is the day of the sun.\")\n",
        "elif today == 'March':\n",
        "    print(\"Today is the day of the moon.\")\n",
        "elif today == 'April':\n",
        "    print(\"Today is the day of Tyr, the god of war.\")\n",
        "elif today == 'November':\n",
        "    print(\"Today is the day of Odin, the supreme diety.\")\n",
        "elif today == 'June':\n",
        "    print(\"Today is the day of Thor, the god of thunder.\")\n",
        "elif today == 'July':\n",
        "    print(\"Today is the day of Frigga, the goddess of beauty.\")\n",
        "elif today == 'September':\n",
        "    print(\"Today is the day of Saturn, the god of fun and feasting.\")"
      ]
    },
    {
      "cell_type": "code",
      "execution_count": null,
      "metadata": {
        "id": "dABjon-dIsvZ"
      },
      "outputs": [],
      "source": [
        "w1, w2, w3, = 0.9, 0.1, 0.5,"
      ]
    },
    {
      "cell_type": "code",
      "execution_count": null,
      "metadata": {
        "id": "TA55Y1ehqyfG"
      },
      "outputs": [],
      "source": [
        "kanto_temp = 73\n",
        "kanto_rainfall = 67\n",
        "kanto_humidity = 43"
      ]
    },
    {
      "cell_type": "code",
      "execution_count": null,
      "metadata": {
        "id": "BJr_B2QjrtAx"
      },
      "outputs": [],
      "source": []
    },
    {
      "cell_type": "code",
      "execution_count": null,
      "metadata": {
        "id": "QsEuLc0crHl4"
      },
      "outputs": [],
      "source": [
        "kanto_yeild_apples = kanto_temp*w1+kanto_rainfall * w2 + kanto_humidity * w3"
      ]
    },
    {
      "cell_type": "code",
      "execution_count": null,
      "metadata": {
        "colab": {
          "base_uri": "https://localhost:8080/"
        },
        "id": "BaNZn4kwr79x",
        "outputId": "ecd9a30c-d7b1-4b05-d396-486c511ca9eb"
      },
      "outputs": [
        {
          "data": {
            "text/plain": [
              "93.9"
            ]
          },
          "execution_count": 4,
          "metadata": {},
          "output_type": "execute_result"
        }
      ],
      "source": [
        "kanto_yeild_apples"
      ]
    },
    {
      "cell_type": "code",
      "execution_count": null,
      "metadata": {
        "colab": {
          "base_uri": "https://localhost:8080/"
        },
        "id": "ugM0jjpwr_9Z",
        "outputId": "65e045d0-35fb-49ca-b62c-9cd1b77206e1"
      },
      "outputs": [
        {
          "name": "stdout",
          "output_type": "stream",
          "text": [
            "the expected value of apple yeild in kanto region is93.9 per hectare.\n"
          ]
        }
      ],
      "source": [
        "print(\"the expected value of apple yeild in kanto region is{} per hectare.\".format(kanto_yeild_apples))"
      ]
    },
    {
      "cell_type": "code",
      "execution_count": null,
      "metadata": {
        "id": "XuPZh7Jys2Ar"
      },
      "outputs": [],
      "source": [
        "kupwara = [73, 67, 43]\n",
        "budgam = [91, 88, 64]\n",
        "pampore = [87, 134, 58]\n",
        "suthsoo = [102, 43, 37]\n",
        "pahroo = [69, 96, 70]"
      ]
    },
    {
      "cell_type": "code",
      "execution_count": null,
      "metadata": {
        "colab": {
          "base_uri": "https://localhost:8080/"
        },
        "id": "RDoK_5cftqHv",
        "outputId": "bb3f4ed8-2166-4c00-a49a-56945d5fc2a6"
      },
      "outputs": [
        {
          "data": {
            "text/plain": [
              "[69, 96, 70]"
            ]
          },
          "execution_count": 15,
          "metadata": {},
          "output_type": "execute_result"
        }
      ],
      "source": [
        "pahroo"
      ]
    },
    {
      "cell_type": "code",
      "execution_count": null,
      "metadata": {
        "colab": {
          "base_uri": "https://localhost:8080/"
        },
        "id": "5n21Vm9xtz71",
        "outputId": "df4e4f6f-c8f0-416c-c789-a9d72fef36bc"
      },
      "outputs": [
        {
          "name": "stdout",
          "output_type": "stream",
          "text": [
            "73\n",
            "87\n",
            "67\n",
            "134\n",
            "43\n",
            "58\n"
          ]
        }
      ],
      "source": [
        "for x, w in zip(kupwara, pampore):\n",
        "  print(x)\n",
        "  print(w)"
      ]
    },
    {
      "cell_type": "code",
      "execution_count": null,
      "metadata": {
        "id": "LI8ZX5BkuF6w"
      },
      "outputs": [],
      "source": [
        "def crop_yield(region, weights):\n",
        "    result = 0\n",
        "    for x, w in zip(region, weights):\n",
        "        result += x * w\n",
        "    return result"
      ]
    },
    {
      "cell_type": "code",
      "execution_count": null,
      "metadata": {
        "colab": {
          "base_uri": "https://localhost:8080/"
        },
        "id": "RoMmMRDVvjb1",
        "outputId": "93ea3be7-5760-494c-cfe6-21bf1c444da4"
      },
      "outputs": [
        {
          "data": {
            "text/plain": [
              "16782"
            ]
          },
          "execution_count": 20,
          "metadata": {},
          "output_type": "execute_result"
        }
      ],
      "source": [
        "crop_yield(suthsoo, pampore)"
      ]
    },
    {
      "cell_type": "code",
      "execution_count": null,
      "metadata": {
        "id": "BTDGXDZDv_Ja"
      },
      "outputs": [],
      "source": [
        "import numpy as np\n",
        "\n",
        "arr2 = np.array ([[1, 2, 3, 4],\n",
        "                  [5, 6, 7, 6],\n",
        "                  [8, 9, 8, 7]])"
      ]
    },
    {
      "cell_type": "code",
      "execution_count": null,
      "metadata": {
        "colab": {
          "base_uri": "https://localhost:8080/"
        },
        "id": "9Xp-1sOUqgrK",
        "outputId": "384c0eaf-f470-496c-8d57-bd40b1a9deab"
      },
      "outputs": [
        {
          "data": {
            "text/plain": [
              "(3, 4)"
            ]
          },
          "execution_count": 3,
          "metadata": {},
          "output_type": "execute_result"
        }
      ],
      "source": [
        "arr2.shape"
      ]
    },
    {
      "cell_type": "code",
      "execution_count": null,
      "metadata": {
        "id": "pMOz0ZZ2rY_E"
      },
      "outputs": [],
      "source": [
        "arr4 = np.array([8, 2, 9, 5])"
      ]
    },
    {
      "cell_type": "code",
      "execution_count": null,
      "metadata": {
        "colab": {
          "base_uri": "https://localhost:8080/"
        },
        "id": "vWFijznL6Hl2",
        "outputId": "d581013a-279c-4c53-b129-dffd96bae534"
      },
      "outputs": [
        {
          "data": {
            "text/plain": [
              "(4,)"
            ]
          },
          "execution_count": 5,
          "metadata": {},
          "output_type": "execute_result"
        }
      ],
      "source": [
        "arr4.shape"
      ]
    },
    {
      "cell_type": "code",
      "execution_count": null,
      "metadata": {
        "colab": {
          "base_uri": "https://localhost:8080/"
        },
        "id": "4SDTsAcg6bXJ",
        "outputId": "25c5dcf8-6e54-45af-c1c2-e9f136c638fc"
      },
      "outputs": [
        {
          "data": {
            "text/plain": [
              "array([[ 9,  4, 12,  9],\n",
              "       [13,  8, 16, 11],\n",
              "       [16, 11, 17, 12]])"
            ]
          },
          "execution_count": 6,
          "metadata": {},
          "output_type": "execute_result"
        }
      ],
      "source": [
        "arr2 + arr4"
      ]
    },
    {
      "cell_type": "code",
      "execution_count": null,
      "metadata": {
        "id": "_fdmOh1t7ZGa"
      },
      "outputs": [],
      "source": []
    },
    {
      "cell_type": "code",
      "execution_count": null,
      "metadata": {
        "colab": {
          "base_uri": "https://localhost:8080/"
        },
        "id": "hxxHURAt6iJy",
        "outputId": "44c3a766-e212-4065-a7fd-70448228131f"
      },
      "outputs": [
        {
          "data": {
            "text/plain": [
              "array([[ 8,  4, 27, 20],\n",
              "       [40, 12, 63, 30],\n",
              "       [64, 18, 72, 35]])"
            ]
          },
          "execution_count": 7,
          "metadata": {},
          "output_type": "execute_result"
        }
      ],
      "source": [
        "arr2 * arr4"
      ]
    },
    {
      "cell_type": "code",
      "execution_count": null,
      "metadata": {
        "id": "yNCCNVl-6siv"
      },
      "outputs": [],
      "source": [
        "arr5 = np.array([2, 9])"
      ]
    },
    {
      "cell_type": "code",
      "execution_count": null,
      "metadata": {
        "colab": {
          "base_uri": "https://localhost:8080/"
        },
        "id": "WMA0eruO7mBm",
        "outputId": "9efbd803-d44b-401c-d328-76eb874d2a01"
      },
      "outputs": [
        {
          "data": {
            "text/plain": [
              "(2,)"
            ]
          },
          "execution_count": 9,
          "metadata": {},
          "output_type": "execute_result"
        }
      ],
      "source": [
        "arr5.shape"
      ]
    },
    {
      "cell_type": "code",
      "execution_count": null,
      "metadata": {
        "colab": {
          "base_uri": "https://localhost:8080/",
          "height": 141
        },
        "id": "xMVL21Yz7oUj",
        "outputId": "e0d52c6a-b46f-47b4-d53a-bfb733572f90"
      },
      "outputs": [
        {
          "ename": "ValueError",
          "evalue": "operands could not be broadcast together with shapes (3,4) (2,) ",
          "output_type": "error",
          "traceback": [
            "\u001b[0;31m---------------------------------------------------------------------------\u001b[0m",
            "\u001b[0;31mValueError\u001b[0m                                Traceback (most recent call last)",
            "\u001b[0;32m<ipython-input-10-05d01856b3ca>\u001b[0m in \u001b[0;36m<cell line: 1>\u001b[0;34m()\u001b[0m\n\u001b[0;32m----> 1\u001b[0;31m \u001b[0marr2\u001b[0m\u001b[0;34m+\u001b[0m\u001b[0marr5\u001b[0m\u001b[0;34m\u001b[0m\u001b[0;34m\u001b[0m\u001b[0m\n\u001b[0m",
            "\u001b[0;31mValueError\u001b[0m: operands could not be broadcast together with shapes (3,4) (2,) "
          ]
        }
      ],
      "source": [
        "arr2+arr5"
      ]
    },
    {
      "cell_type": "code",
      "execution_count": null,
      "metadata": {
        "id": "5r4XHodW7tTr"
      },
      "outputs": [],
      "source": [
        "import numpy as np"
      ]
    },
    {
      "cell_type": "code",
      "execution_count": null,
      "metadata": {
        "id": "NPyuLv9N7_Wk"
      },
      "outputs": [],
      "source": [
        "arr3 = np.array([\n",
        "    [[11, 12, 13, 14],\n",
        "     [13, 14, 15, 19]],\n",
        "\n",
        "    [[15, 16, 17, 21],\n",
        "     [63, 92, 36, 18]],\n",
        "\n",
        "    [[98, 32, 81, 23],\n",
        "     [17, 18, 19.5, 43]]])"
      ]
    },
    {
      "cell_type": "code",
      "execution_count": null,
      "metadata": {
        "colab": {
          "base_uri": "https://localhost:8080/"
        },
        "id": "3gCAbaWG8Kj1",
        "outputId": "2f1883ba-221e-4c75-dbfb-b6974cf0296f"
      },
      "outputs": [
        {
          "data": {
            "text/plain": [
              "(3, 2, 4)"
            ]
          },
          "execution_count": 13,
          "metadata": {},
          "output_type": "execute_result"
        }
      ],
      "source": [
        "arr3.shape"
      ]
    },
    {
      "cell_type": "code",
      "execution_count": null,
      "metadata": {
        "colab": {
          "base_uri": "https://localhost:8080/"
        },
        "id": "2vs9QaA18NV9",
        "outputId": "d8f6de2a-c637-4fa3-df84-cf391889781b"
      },
      "outputs": [
        {
          "data": {
            "text/plain": [
              "19.5"
            ]
          },
          "execution_count": 15,
          "metadata": {},
          "output_type": "execute_result"
        }
      ],
      "source": [
        "arr3[2,1,2]"
      ]
    },
    {
      "cell_type": "code",
      "execution_count": null,
      "metadata": {
        "id": "-23nBRd58a5e"
      },
      "outputs": [],
      "source": [
        "import numpy as np"
      ]
    },
    {
      "cell_type": "code",
      "execution_count": null,
      "metadata": {
        "id": "bMBH5v8JGudD"
      },
      "outputs": [],
      "source": [
        "data=np.array([63,  7,  5, 84, 77, 33, 34, 64, 30, 70])"
      ]
    },
    {
      "cell_type": "code",
      "execution_count": null,
      "metadata": {
        "id": "eZX2rQ3THUzt"
      },
      "outputs": [],
      "source": [
        "mean=np.mean(data)"
      ]
    },
    {
      "cell_type": "code",
      "execution_count": null,
      "metadata": {
        "colab": {
          "base_uri": "https://localhost:8080/"
        },
        "id": "7LtWTKwpH0M4",
        "outputId": "b9f70141-b9b1-4be7-8470-15c4bb84f9ab"
      },
      "outputs": [
        {
          "name": "stdout",
          "output_type": "stream",
          "text": [
            "46.7\n"
          ]
        }
      ],
      "source": [
        "print(mean)"
      ]
    },
    {
      "cell_type": "code",
      "execution_count": null,
      "metadata": {
        "id": "ccmIW9awIH78"
      },
      "outputs": [],
      "source": [
        "import numpy as np"
      ]
    },
    {
      "cell_type": "code",
      "execution_count": null,
      "metadata": {
        "colab": {
          "base_uri": "https://localhost:8080/"
        },
        "id": "TRp89WYdIrw7",
        "outputId": "908cc74e-ffe5-4070-e5e9-5ee97c4da82f"
      },
      "outputs": [
        {
          "data": {
            "text/plain": [
              "array([52, 39, 87, 81, 32, 80, 82, 17])"
            ]
          },
          "execution_count": 33,
          "metadata": {},
          "output_type": "execute_result"
        }
      ],
      "source": [
        "r=np.random.randint(1,101,8)\n",
        "r"
      ]
    },
    {
      "cell_type": "code",
      "execution_count": null,
      "metadata": {
        "id": "oZBPzXT0MK-B"
      },
      "outputs": [],
      "source": [
        "mean=np.mean(r)"
      ]
    },
    {
      "cell_type": "code",
      "execution_count": null,
      "metadata": {
        "colab": {
          "base_uri": "https://localhost:8080/"
        },
        "id": "ojQIsCbZMRso",
        "outputId": "8f9004d2-93c5-48f4-c008-d923afc3731f"
      },
      "outputs": [
        {
          "data": {
            "text/plain": [
              "58.75"
            ]
          },
          "execution_count": 35,
          "metadata": {},
          "output_type": "execute_result"
        }
      ],
      "source": [
        "mean"
      ]
    },
    {
      "cell_type": "code",
      "execution_count": null,
      "metadata": {
        "colab": {
          "base_uri": "https://localhost:8080/"
        },
        "id": "h65EgiwIMT-h",
        "outputId": "fe5652ab-49c8-43f1-8939-2fb4ca8af78a"
      },
      "outputs": [
        {
          "data": {
            "text/plain": [
              "25.44479318053106"
            ]
          },
          "execution_count": 36,
          "metadata": {},
          "output_type": "execute_result"
        }
      ],
      "source": [
        "std_dev=np.std(r)\n",
        "std_dev"
      ]
    },
    {
      "cell_type": "code",
      "execution_count": null,
      "metadata": {
        "id": "VvuDbEVfI7-h"
      },
      "outputs": [],
      "source": [
        "import numpy as np"
      ]
    },
    {
      "cell_type": "code",
      "execution_count": null,
      "metadata": {
        "id": "Z4riBrg2LWHG"
      },
      "outputs": [],
      "source": [
        "arr1=np.array([1,4,6])\n",
        "arr2=np.array([6,2,2])"
      ]
    },
    {
      "cell_type": "code",
      "execution_count": null,
      "metadata": {
        "colab": {
          "base_uri": "https://localhost:8080/"
        },
        "id": "M6Q5T_K-L3fB",
        "outputId": "f51994c6-474a-4f8a-89c5-76c426766a9f"
      },
      "outputs": [
        {
          "data": {
            "text/plain": [
              "26"
            ]
          },
          "execution_count": 5,
          "metadata": {},
          "output_type": "execute_result"
        }
      ],
      "source": [
        "np.dot(arr1,arr2)"
      ]
    },
    {
      "cell_type": "code",
      "execution_count": null,
      "metadata": {
        "id": "4bCWck_zL8iT"
      },
      "outputs": [],
      "source": [
        "heights=np.random.randint(70,80,size=9)"
      ]
    },
    {
      "cell_type": "code",
      "execution_count": null,
      "metadata": {
        "colab": {
          "base_uri": "https://localhost:8080/"
        },
        "id": "gHxn0nd4OIhy",
        "outputId": "63dd7086-569e-43c7-9289-d9bf7efa38f0"
      },
      "outputs": [
        {
          "data": {
            "text/plain": [
              "array([77, 72, 71, 72, 70, 74, 76, 73, 74])"
            ]
          },
          "execution_count": 7,
          "metadata": {},
          "output_type": "execute_result"
        }
      ],
      "source": [
        "heights"
      ]
    },
    {
      "cell_type": "code",
      "execution_count": null,
      "metadata": {
        "colab": {
          "base_uri": "https://localhost:8080/"
        },
        "id": "AGNMO9LxOOyX",
        "outputId": "876af714-656c-42db-b88c-40f61cb8cedb"
      },
      "outputs": [
        {
          "data": {
            "text/plain": [
              "77"
            ]
          },
          "execution_count": 8,
          "metadata": {},
          "output_type": "execute_result"
        }
      ],
      "source": [
        "\n",
        "tallest=np.max(heights)\n",
        "tallest"
      ]
    },
    {
      "cell_type": "code",
      "execution_count": null,
      "metadata": {
        "colab": {
          "base_uri": "https://localhost:8080/"
        },
        "id": "vQege1UwOjoh",
        "outputId": "81682984-68c9-46d7-cebe-3a9ef9fc4256"
      },
      "outputs": [
        {
          "data": {
            "text/plain": [
              "array([-1, 72, -1, 72, 70, 74, 76, -1, 74])"
            ]
          },
          "execution_count": 9,
          "metadata": {},
          "output_type": "execute_result"
        }
      ],
      "source": [
        "heights[heights%2==1]=-1\n",
        "heights"
      ]
    },
    {
      "cell_type": "code",
      "execution_count": null,
      "metadata": {
        "colab": {
          "base_uri": "https://localhost:8080/"
        },
        "id": "y7cX5J5cuZWI",
        "outputId": "ffcae97f-bfb0-4e30-e8ee-df1d7a42102c"
      },
      "outputs": [
        {
          "data": {
            "text/plain": [
              "array([[-1, 72, -1],\n",
              "       [72, 70, 74],\n",
              "       [76, -1, 74]])"
            ]
          },
          "execution_count": 10,
          "metadata": {},
          "output_type": "execute_result"
        }
      ],
      "source": [
        "heights.reshape(3,3)"
      ]
    },
    {
      "cell_type": "code",
      "execution_count": null,
      "metadata": {
        "id": "4YHYNfDkbcTo"
      },
      "outputs": [],
      "source": [
        "celsius_tempreture=np.array([0,10,20,30,40])"
      ]
    },
    {
      "cell_type": "code",
      "execution_count": null,
      "metadata": {
        "colab": {
          "base_uri": "https://localhost:8080/"
        },
        "id": "NuZLZkclb01a",
        "outputId": "dab4f8c2-95d5-44f5-898f-3f3c0c5b85e2"
      },
      "outputs": [
        {
          "data": {
            "text/plain": [
              "array([ 32.,  50.,  68.,  86., 104.])"
            ]
          },
          "execution_count": 13,
          "metadata": {},
          "output_type": "execute_result"
        }
      ],
      "source": [
        "fahrenheit_tempretures=(celsius_tempreture*9/5)+32\n",
        "fahrenheit_tempretures"
      ]
    },
    {
      "cell_type": "code",
      "execution_count": null,
      "metadata": {
        "id": "Z_J7_6nxcFUq"
      },
      "outputs": [],
      "source": [
        "import numpy as np"
      ]
    },
    {
      "cell_type": "code",
      "execution_count": null,
      "metadata": {
        "id": "3u5okwr8eh2t"
      },
      "outputs": [],
      "source": [
        "heights= np.arange(9).reshape(3,3)"
      ]
    },
    {
      "cell_type": "code",
      "execution_count": null,
      "metadata": {
        "colab": {
          "base_uri": "https://localhost:8080/"
        },
        "id": "VJwiz2tmfStq",
        "outputId": "54041414-43f2-4300-d254-d6b388975468"
      },
      "outputs": [
        {
          "name": "stdout",
          "output_type": "stream",
          "text": [
            "The original array: \n",
            " [[0 1 2]\n",
            " [3 4 5]\n",
            " [6 7 8]] \n",
            "\n"
          ]
        }
      ],
      "source": [
        "print(\"The original array: \\n\", heights, \"\\n\")"
      ]
    },
    {
      "cell_type": "code",
      "execution_count": null,
      "metadata": {
        "colab": {
          "base_uri": "https://localhost:8080/"
        },
        "id": "L9reSM5Gfasu",
        "outputId": "706bded4-7304-4cc3-fbe7-ef73b003a820"
      },
      "outputs": [
        {
          "name": "stdout",
          "output_type": "stream",
          "text": [
            "The extracted array:\n",
            "[[0 1 2]\n",
            " [3 4 5]\n",
            " [6 7 8]]\n"
          ]
        }
      ],
      "source": [
        "print(\"The extracted array:\")\n",
        "print(heights[:,:4])"
      ]
    },
    {
      "cell_type": "code",
      "execution_count": null,
      "metadata": {
        "colab": {
          "base_uri": "https://localhost:8080/"
        },
        "id": "CtgzZ0XlfmWv",
        "outputId": "b1fa33e0-68cd-4f8a-8725-1bc42fe010c8"
      },
      "outputs": [
        {
          "name": "stdout",
          "output_type": "stream",
          "text": [
            "3 3\n",
            "3 8\n",
            "3 9\n",
            "3 9\n"
          ]
        }
      ],
      "source": [
        "# python code to train pokemon\n",
        "powers = [3, 8, 9, 7]\n",
        "\n",
        "mini, maxi = 0, 0\n",
        "\n",
        "for power in powers:\n",
        "\tif mini == 0 and maxi == 0:\n",
        "\t\tmini, maxi = powers[0], powers[0]\n",
        "\t\tprint(mini, maxi)\n",
        "\telse:\n",
        "\t\tmini = min(mini, power)\n",
        "\t\tmaxi = max(maxi, power)\n",
        "\t\tprint(mini, maxi)\n",
        "\n",
        "# Time Complexity is O(N) with Space Complexity O(1)"
      ]
    },
    {
      "cell_type": "code",
      "execution_count": null,
      "metadata": {
        "id": "QWeC27c5CHv-"
      },
      "outputs": [],
      "source": [
        "import numpy as np"
      ]
    },
    {
      "cell_type": "code",
      "source": [
        "array=[23,65,87,19,]"
      ],
      "metadata": {
        "id": "J3R0MugBLGo6"
      },
      "execution_count": null,
      "outputs": []
    },
    {
      "cell_type": "code",
      "source": [
        "array"
      ],
      "metadata": {
        "colab": {
          "base_uri": "https://localhost:8080/"
        },
        "id": "WHB6DTo_LOAn",
        "outputId": "77549c59-2534-433f-bceb-3f8e94ab6358"
      },
      "execution_count": null,
      "outputs": [
        {
          "output_type": "execute_result",
          "data": {
            "text/plain": [
              "[23, 65, 87, 19]"
            ]
          },
          "metadata": {},
          "execution_count": 3
        }
      ]
    },
    {
      "cell_type": "code",
      "source": [
        "mean=np.mean(array)"
      ],
      "metadata": {
        "id": "8C4w-aX2LQee"
      },
      "execution_count": null,
      "outputs": []
    },
    {
      "cell_type": "code",
      "source": [
        "mean"
      ],
      "metadata": {
        "colab": {
          "base_uri": "https://localhost:8080/"
        },
        "id": "7XppkTUWLSle",
        "outputId": "0b59a2e8-580f-4517-8f9e-cb5626583665"
      },
      "execution_count": null,
      "outputs": [
        {
          "output_type": "execute_result",
          "data": {
            "text/plain": [
              "48.5"
            ]
          },
          "metadata": {},
          "execution_count": 7
        }
      ]
    },
    {
      "cell_type": "code",
      "source": [
        "arr2=np.array([1,3,5,]),\n",
        "([6,8,3]),\n",
        "([9,1,5])\n"
      ],
      "metadata": {
        "colab": {
          "base_uri": "https://localhost:8080/"
        },
        "id": "f6Hq4PMELrGe",
        "outputId": "ec2624c7-b0c9-46a8-c33d-18c88eafb302"
      },
      "execution_count": null,
      "outputs": [
        {
          "output_type": "execute_result",
          "data": {
            "text/plain": [
              "[9, 1, 5]"
            ]
          },
          "metadata": {},
          "execution_count": 13
        }
      ]
    },
    {
      "cell_type": "code",
      "source": [
        "arr2.shape"
      ],
      "metadata": {
        "colab": {
          "base_uri": "https://localhost:8080/",
          "height": 141
        },
        "id": "PMT1A3gILxfU",
        "outputId": "d4381905-1e13-4f3a-9619-c33698281a2b"
      },
      "execution_count": null,
      "outputs": [
        {
          "output_type": "error",
          "ename": "AttributeError",
          "evalue": "'tuple' object has no attribute 'shape'",
          "traceback": [
            "\u001b[0;31m---------------------------------------------------------------------------\u001b[0m",
            "\u001b[0;31mAttributeError\u001b[0m                            Traceback (most recent call last)",
            "\u001b[0;32m<ipython-input-14-55feed3c4813>\u001b[0m in \u001b[0;36m<cell line: 1>\u001b[0;34m()\u001b[0m\n\u001b[0;32m----> 1\u001b[0;31m \u001b[0marr2\u001b[0m\u001b[0;34m.\u001b[0m\u001b[0mshape\u001b[0m\u001b[0;34m\u001b[0m\u001b[0;34m\u001b[0m\u001b[0m\n\u001b[0m",
            "\u001b[0;31mAttributeError\u001b[0m: 'tuple' object has no attribute 'shape'"
          ]
        }
      ]
    },
    {
      "cell_type": "code",
      "source": [],
      "metadata": {
        "id": "X8sUIu9rMXWx"
      },
      "execution_count": null,
      "outputs": []
    }
  ],
  "metadata": {
    "colab": {
      "provenance": [],
      "authorship_tag": "ABX9TyPrm3ZXjhKAdrb/Cd6lkwKe",
      "include_colab_link": true
    },
    "kernelspec": {
      "display_name": "Python 3",
      "name": "python3"
    },
    "language_info": {
      "name": "python"
    }
  },
  "nbformat": 4,
  "nbformat_minor": 0
}